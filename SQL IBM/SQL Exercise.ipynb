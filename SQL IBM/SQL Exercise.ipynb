{
 "cells": [
  {
   "cell_type": "code",
   "execution_count": 1,
   "metadata": {},
   "outputs": [],
   "source": [
    "import ibm_db\n",
    "import ibm_db_sa\n",
    "%load_ext sql"
   ]
  },
  {
   "cell_type": "code",
   "execution_count": 2,
   "metadata": {},
   "outputs": [
    {
     "data": {
      "text/plain": [
       "'Connected: sgn54194@BLUDB'"
      ]
     },
     "execution_count": 2,
     "metadata": {},
     "output_type": "execute_result"
    }
   ],
   "source": [
    "# Enter your Db2 credentials in the connection string below\n",
    "# Recall you created Service Credentials in Part III of the first lab of the course in Week 1\n",
    "# i.e. from the uri field in the Service Credentials copy everything after db2:// (but remove the double quote at the end)\n",
    "# for example, if your credentials are as in the screenshot above, you would write:\n",
    "# %sql ibm_db_sa://my-username:my-password@dashdb-txn-sbox-yp-dal09-03.services.dal.bluemix.net:50000/BLUDB\n",
    "# Note the ibm_db_sa:// prefix instead of db2://\n",
    "# This is because JupyterLab's ipython-sql extension uses sqlalchemy (a python SQL toolkit)\n",
    "# which in turn uses IBM's sqlalchemy dialect: ibm_db_sa\n",
    "%sql ibm_db_sa://sgn54194:rrb24%5En3pw06p6zp@dashdb-txn-sbox-yp-dal09-03.services.dal.bluemix.net:50000/BLUDB"
   ]
  },
  {
   "cell_type": "code",
   "execution_count": 4,
   "metadata": {},
   "outputs": [
    {
     "name": "stdout",
     "output_type": "stream",
     "text": [
      " * ibm_db_sa://sgn54194:***@dashdb-txn-sbox-yp-dal09-03.services.dal.bluemix.net:50000/BLUDB\n",
      "Done.\n"
     ]
    },
    {
     "data": {
      "text/html": [
       "<table>\n",
       "    <tr>\n",
       "        <th>emp_id</th>\n",
       "        <th>f_name</th>\n",
       "        <th>l_name</th>\n",
       "        <th>ssn</th>\n",
       "        <th>b_date</th>\n",
       "        <th>sex</th>\n",
       "        <th>address</th>\n",
       "        <th>job_id</th>\n",
       "        <th>salary</th>\n",
       "        <th>manager_id</th>\n",
       "        <th>dep_id</th>\n",
       "    </tr>\n",
       "    <tr>\n",
       "        <td>E1002    </td>\n",
       "        <td>Alice</td>\n",
       "        <td>James</td>\n",
       "        <td>123457   </td>\n",
       "        <td>1972-07-31</td>\n",
       "        <td>F</td>\n",
       "        <td>980 Berry ln, Elgin,IL</td>\n",
       "        <td>200      </td>\n",
       "        <td>80000.00</td>\n",
       "        <td>30002    </td>\n",
       "        <td>5        </td>\n",
       "    </tr>\n",
       "    <tr>\n",
       "        <td>E1006    </td>\n",
       "        <td>Nancy</td>\n",
       "        <td>Allen</td>\n",
       "        <td>123411   </td>\n",
       "        <td>1978-02-06</td>\n",
       "        <td>F</td>\n",
       "        <td>111 Green Pl, Elgin,IL</td>\n",
       "        <td>600      </td>\n",
       "        <td>90000.00</td>\n",
       "        <td>30001    </td>\n",
       "        <td>2        </td>\n",
       "    </tr>\n",
       "    <tr>\n",
       "        <td>E1010    </td>\n",
       "        <td>Ann</td>\n",
       "        <td>Jacob</td>\n",
       "        <td>123415   </td>\n",
       "        <td>1982-03-30</td>\n",
       "        <td>F</td>\n",
       "        <td>111 Britany Springs,Elgin,IL</td>\n",
       "        <td>220      </td>\n",
       "        <td>70000.00</td>\n",
       "        <td>30004    </td>\n",
       "        <td>5        </td>\n",
       "    </tr>\n",
       "</table>"
      ],
      "text/plain": [
       "[('E1002    ', 'Alice', 'James', '123457   ', datetime.date(1972, 7, 31), 'F', '980 Berry ln, Elgin,IL', '200      ', Decimal('80000.00'), '30002    ', '5        '),\n",
       " ('E1006    ', 'Nancy', 'Allen', '123411   ', datetime.date(1978, 2, 6), 'F', '111 Green Pl, Elgin,IL', '600      ', Decimal('90000.00'), '30001    ', '2        '),\n",
       " ('E1010    ', 'Ann', 'Jacob', '123415   ', datetime.date(1982, 3, 30), 'F', '111 Britany Springs,Elgin,IL', '220      ', Decimal('70000.00'), '30004    ', '5        ')]"
      ]
     },
     "execution_count": 4,
     "metadata": {},
     "output_type": "execute_result"
    }
   ],
   "source": [
    "# Query 1: Retrieve all employees whose address is in Elgin,IL\n",
    "query_1 = %sql select * from EMPLOYEES where ADDRESS like '%Elgin%';\n",
    "query_1"
   ]
  },
  {
   "cell_type": "code",
   "execution_count": 5,
   "metadata": {},
   "outputs": [
    {
     "name": "stdout",
     "output_type": "stream",
     "text": [
      " * ibm_db_sa://sgn54194:***@dashdb-txn-sbox-yp-dal09-03.services.dal.bluemix.net:50000/BLUDB\n",
      "Done.\n"
     ]
    },
    {
     "data": {
      "text/html": [
       "<table>\n",
       "    <tr>\n",
       "        <th>emp_id</th>\n",
       "        <th>f_name</th>\n",
       "        <th>l_name</th>\n",
       "        <th>ssn</th>\n",
       "        <th>b_date</th>\n",
       "        <th>sex</th>\n",
       "        <th>address</th>\n",
       "        <th>job_id</th>\n",
       "        <th>salary</th>\n",
       "        <th>manager_id</th>\n",
       "        <th>dep_id</th>\n",
       "    </tr>\n",
       "    <tr>\n",
       "        <td>E1001    </td>\n",
       "        <td>John</td>\n",
       "        <td>Thomas</td>\n",
       "        <td>123456   </td>\n",
       "        <td>1976-01-09</td>\n",
       "        <td>M</td>\n",
       "        <td>5631 Rice, OakPark,IL</td>\n",
       "        <td>100      </td>\n",
       "        <td>100000.00</td>\n",
       "        <td>30001    </td>\n",
       "        <td>2        </td>\n",
       "    </tr>\n",
       "    <tr>\n",
       "        <td>E1002    </td>\n",
       "        <td>Alice</td>\n",
       "        <td>James</td>\n",
       "        <td>123457   </td>\n",
       "        <td>1972-07-31</td>\n",
       "        <td>F</td>\n",
       "        <td>980 Berry ln, Elgin,IL</td>\n",
       "        <td>200      </td>\n",
       "        <td>80000.00</td>\n",
       "        <td>30002    </td>\n",
       "        <td>5        </td>\n",
       "    </tr>\n",
       "    <tr>\n",
       "        <td>E1006    </td>\n",
       "        <td>Nancy</td>\n",
       "        <td>Allen</td>\n",
       "        <td>123411   </td>\n",
       "        <td>1978-02-06</td>\n",
       "        <td>F</td>\n",
       "        <td>111 Green Pl, Elgin,IL</td>\n",
       "        <td>600      </td>\n",
       "        <td>90000.00</td>\n",
       "        <td>30001    </td>\n",
       "        <td>2        </td>\n",
       "    </tr>\n",
       "    <tr>\n",
       "        <td>E1007    </td>\n",
       "        <td>Mary</td>\n",
       "        <td>Thomas</td>\n",
       "        <td>123412   </td>\n",
       "        <td>1975-05-05</td>\n",
       "        <td>F</td>\n",
       "        <td>100 Rose Pl, Gary,IL</td>\n",
       "        <td>650      </td>\n",
       "        <td>65000.00</td>\n",
       "        <td>30003    </td>\n",
       "        <td>7        </td>\n",
       "    </tr>\n",
       "</table>"
      ],
      "text/plain": [
       "[('E1001    ', 'John', 'Thomas', '123456   ', datetime.date(1976, 1, 9), 'M', '5631 Rice, OakPark,IL', '100      ', Decimal('100000.00'), '30001    ', '2        '),\n",
       " ('E1002    ', 'Alice', 'James', '123457   ', datetime.date(1972, 7, 31), 'F', '980 Berry ln, Elgin,IL', '200      ', Decimal('80000.00'), '30002    ', '5        '),\n",
       " ('E1006    ', 'Nancy', 'Allen', '123411   ', datetime.date(1978, 2, 6), 'F', '111 Green Pl, Elgin,IL', '600      ', Decimal('90000.00'), '30001    ', '2        '),\n",
       " ('E1007    ', 'Mary', 'Thomas', '123412   ', datetime.date(1975, 5, 5), 'F', '100 Rose Pl, Gary,IL', '650      ', Decimal('65000.00'), '30003    ', '7        ')]"
      ]
     },
     "execution_count": 5,
     "metadata": {},
     "output_type": "execute_result"
    }
   ],
   "source": [
    "# Query 2: Retrieve all employees who were born during the 1970's.\n",
    "query_2 = %sql select * from EMPLOYEES where b_date LIKE '197%';\n",
    "query_2"
   ]
  },
  {
   "cell_type": "code",
   "execution_count": 11,
   "metadata": {},
   "outputs": [
    {
     "name": "stdout",
     "output_type": "stream",
     "text": [
      " * ibm_db_sa://sgn54194:***@dashdb-txn-sbox-yp-dal09-03.services.dal.bluemix.net:50000/BLUDB\n",
      "Done.\n"
     ]
    },
    {
     "data": {
      "text/html": [
       "<table>\n",
       "    <tr>\n",
       "        <th>emp_id</th>\n",
       "        <th>f_name</th>\n",
       "        <th>l_name</th>\n",
       "        <th>ssn</th>\n",
       "        <th>b_date</th>\n",
       "        <th>sex</th>\n",
       "        <th>address</th>\n",
       "        <th>job_id</th>\n",
       "        <th>salary</th>\n",
       "        <th>manager_id</th>\n",
       "        <th>dep_id</th>\n",
       "    </tr>\n",
       "    <tr>\n",
       "        <td>E1004    </td>\n",
       "        <td>Santosh</td>\n",
       "        <td>Kumar</td>\n",
       "        <td>123459   </td>\n",
       "        <td>1985-07-20</td>\n",
       "        <td>M</td>\n",
       "        <td>511 Aurora Av, Aurora,IL</td>\n",
       "        <td>400      </td>\n",
       "        <td>60000.00</td>\n",
       "        <td>30004    </td>\n",
       "        <td>5        </td>\n",
       "    </tr>\n",
       "    <tr>\n",
       "        <td>E1010    </td>\n",
       "        <td>Ann</td>\n",
       "        <td>Jacob</td>\n",
       "        <td>123415   </td>\n",
       "        <td>1982-03-30</td>\n",
       "        <td>F</td>\n",
       "        <td>111 Britany Springs,Elgin,IL</td>\n",
       "        <td>220      </td>\n",
       "        <td>70000.00</td>\n",
       "        <td>30004    </td>\n",
       "        <td>5        </td>\n",
       "    </tr>\n",
       "</table>"
      ],
      "text/plain": [
       "[('E1004    ', 'Santosh', 'Kumar', '123459   ', datetime.date(1985, 7, 20), 'M', '511 Aurora Av, Aurora,IL', '400      ', Decimal('60000.00'), '30004    ', '5        '),\n",
       " ('E1010    ', 'Ann', 'Jacob', '123415   ', datetime.date(1982, 3, 30), 'F', '111 Britany Springs,Elgin,IL', '220      ', Decimal('70000.00'), '30004    ', '5        ')]"
      ]
     },
     "execution_count": 11,
     "metadata": {},
     "output_type": "execute_result"
    }
   ],
   "source": [
    "# Query 3: Retrieve all employees in department 5 whose salary is between 60000 and 70000 \n",
    "query_3 = %sql SELECT * from employees WHERE dep_id = '5' AND (salary BETWEEN 60000 AND 70000);\n",
    "query_3 "
   ]
  },
  {
   "cell_type": "code",
   "execution_count": 9,
   "metadata": {},
   "outputs": [
    {
     "name": "stdout",
     "output_type": "stream",
     "text": [
      " * ibm_db_sa://sgn54194:***@dashdb-txn-sbox-yp-dal09-03.services.dal.bluemix.net:50000/BLUDB\n",
      "Done.\n"
     ]
    },
    {
     "data": {
      "text/html": [
       "<table>\n",
       "    <tr>\n",
       "        <th>emp_id</th>\n",
       "        <th>f_name</th>\n",
       "        <th>l_name</th>\n",
       "        <th>ssn</th>\n",
       "        <th>b_date</th>\n",
       "        <th>sex</th>\n",
       "        <th>address</th>\n",
       "        <th>job_id</th>\n",
       "        <th>salary</th>\n",
       "        <th>manager_id</th>\n",
       "        <th>dep_id</th>\n",
       "    </tr>\n",
       "    <tr>\n",
       "        <td>E1001    </td>\n",
       "        <td>John</td>\n",
       "        <td>Thomas</td>\n",
       "        <td>123456   </td>\n",
       "        <td>1976-01-09</td>\n",
       "        <td>M</td>\n",
       "        <td>5631 Rice, OakPark,IL</td>\n",
       "        <td>100      </td>\n",
       "        <td>100000.00</td>\n",
       "        <td>30001    </td>\n",
       "        <td>2        </td>\n",
       "    </tr>\n",
       "    <tr>\n",
       "        <td>E1005    </td>\n",
       "        <td>Ahmed</td>\n",
       "        <td>Hussain</td>\n",
       "        <td>123410   </td>\n",
       "        <td>1981-01-04</td>\n",
       "        <td>M</td>\n",
       "        <td>216 Oak Tree, Geneva,IL</td>\n",
       "        <td>500      </td>\n",
       "        <td>70000.00</td>\n",
       "        <td>30001    </td>\n",
       "        <td>2        </td>\n",
       "    </tr>\n",
       "    <tr>\n",
       "        <td>E1006    </td>\n",
       "        <td>Nancy</td>\n",
       "        <td>Allen</td>\n",
       "        <td>123411   </td>\n",
       "        <td>1978-02-06</td>\n",
       "        <td>F</td>\n",
       "        <td>111 Green Pl, Elgin,IL</td>\n",
       "        <td>600      </td>\n",
       "        <td>90000.00</td>\n",
       "        <td>30001    </td>\n",
       "        <td>2        </td>\n",
       "    </tr>\n",
       "    <tr>\n",
       "        <td>E1002    </td>\n",
       "        <td>Alice</td>\n",
       "        <td>James</td>\n",
       "        <td>123457   </td>\n",
       "        <td>1972-07-31</td>\n",
       "        <td>F</td>\n",
       "        <td>980 Berry ln, Elgin,IL</td>\n",
       "        <td>200      </td>\n",
       "        <td>80000.00</td>\n",
       "        <td>30002    </td>\n",
       "        <td>5        </td>\n",
       "    </tr>\n",
       "    <tr>\n",
       "        <td>E1003    </td>\n",
       "        <td>Steve</td>\n",
       "        <td>Wells</td>\n",
       "        <td>123458   </td>\n",
       "        <td>1980-08-10</td>\n",
       "        <td>M</td>\n",
       "        <td>291 Springs, Gary,IL</td>\n",
       "        <td>300      </td>\n",
       "        <td>50000.00</td>\n",
       "        <td>30002    </td>\n",
       "        <td>5        </td>\n",
       "    </tr>\n",
       "    <tr>\n",
       "        <td>E1004    </td>\n",
       "        <td>Santosh</td>\n",
       "        <td>Kumar</td>\n",
       "        <td>123459   </td>\n",
       "        <td>1985-07-20</td>\n",
       "        <td>M</td>\n",
       "        <td>511 Aurora Av, Aurora,IL</td>\n",
       "        <td>400      </td>\n",
       "        <td>60000.00</td>\n",
       "        <td>30004    </td>\n",
       "        <td>5        </td>\n",
       "    </tr>\n",
       "    <tr>\n",
       "        <td>E1010    </td>\n",
       "        <td>Ann</td>\n",
       "        <td>Jacob</td>\n",
       "        <td>123415   </td>\n",
       "        <td>1982-03-30</td>\n",
       "        <td>F</td>\n",
       "        <td>111 Britany Springs,Elgin,IL</td>\n",
       "        <td>220      </td>\n",
       "        <td>70000.00</td>\n",
       "        <td>30004    </td>\n",
       "        <td>5        </td>\n",
       "    </tr>\n",
       "    <tr>\n",
       "        <td>E1007    </td>\n",
       "        <td>Mary</td>\n",
       "        <td>Thomas</td>\n",
       "        <td>123412   </td>\n",
       "        <td>1975-05-05</td>\n",
       "        <td>F</td>\n",
       "        <td>100 Rose Pl, Gary,IL</td>\n",
       "        <td>650      </td>\n",
       "        <td>65000.00</td>\n",
       "        <td>30003    </td>\n",
       "        <td>7        </td>\n",
       "    </tr>\n",
       "    <tr>\n",
       "        <td>E1008    </td>\n",
       "        <td>Bharath</td>\n",
       "        <td>Gupta</td>\n",
       "        <td>123413   </td>\n",
       "        <td>1985-05-06</td>\n",
       "        <td>M</td>\n",
       "        <td>145 Berry Ln, Naperville,IL</td>\n",
       "        <td>660      </td>\n",
       "        <td>65000.00</td>\n",
       "        <td>30003    </td>\n",
       "        <td>7        </td>\n",
       "    </tr>\n",
       "    <tr>\n",
       "        <td>E1009    </td>\n",
       "        <td>Andrea</td>\n",
       "        <td>Jones</td>\n",
       "        <td>123414   </td>\n",
       "        <td>1990-07-09</td>\n",
       "        <td>F</td>\n",
       "        <td>120 Fall Creek, Gary,IL</td>\n",
       "        <td>234      </td>\n",
       "        <td>70000.00</td>\n",
       "        <td>30003    </td>\n",
       "        <td>7        </td>\n",
       "    </tr>\n",
       "</table>"
      ],
      "text/plain": [
       "[('E1001    ', 'John', 'Thomas', '123456   ', datetime.date(1976, 1, 9), 'M', '5631 Rice, OakPark,IL', '100      ', Decimal('100000.00'), '30001    ', '2        '),\n",
       " ('E1005    ', 'Ahmed', 'Hussain', '123410   ', datetime.date(1981, 1, 4), 'M', '216 Oak Tree, Geneva,IL', '500      ', Decimal('70000.00'), '30001    ', '2        '),\n",
       " ('E1006    ', 'Nancy', 'Allen', '123411   ', datetime.date(1978, 2, 6), 'F', '111 Green Pl, Elgin,IL', '600      ', Decimal('90000.00'), '30001    ', '2        '),\n",
       " ('E1002    ', 'Alice', 'James', '123457   ', datetime.date(1972, 7, 31), 'F', '980 Berry ln, Elgin,IL', '200      ', Decimal('80000.00'), '30002    ', '5        '),\n",
       " ('E1003    ', 'Steve', 'Wells', '123458   ', datetime.date(1980, 8, 10), 'M', '291 Springs, Gary,IL', '300      ', Decimal('50000.00'), '30002    ', '5        '),\n",
       " ('E1004    ', 'Santosh', 'Kumar', '123459   ', datetime.date(1985, 7, 20), 'M', '511 Aurora Av, Aurora,IL', '400      ', Decimal('60000.00'), '30004    ', '5        '),\n",
       " ('E1010    ', 'Ann', 'Jacob', '123415   ', datetime.date(1982, 3, 30), 'F', '111 Britany Springs,Elgin,IL', '220      ', Decimal('70000.00'), '30004    ', '5        '),\n",
       " ('E1007    ', 'Mary', 'Thomas', '123412   ', datetime.date(1975, 5, 5), 'F', '100 Rose Pl, Gary,IL', '650      ', Decimal('65000.00'), '30003    ', '7        '),\n",
       " ('E1008    ', 'Bharath', 'Gupta', '123413   ', datetime.date(1985, 5, 6), 'M', '145 Berry Ln, Naperville,IL', '660      ', Decimal('65000.00'), '30003    ', '7        '),\n",
       " ('E1009    ', 'Andrea', 'Jones', '123414   ', datetime.date(1990, 7, 9), 'F', '120 Fall Creek, Gary,IL', '234      ', Decimal('70000.00'), '30003    ', '7        ')]"
      ]
     },
     "execution_count": 9,
     "metadata": {},
     "output_type": "execute_result"
    }
   ],
   "source": [
    "# Query 4A: Retrieve a list of employees ordered by departmentID\n",
    "query_4a = %sql Select * from employees Order by dep_id;\n",
    "query_4a"
   ]
  },
  {
   "cell_type": "code",
   "execution_count": 13,
   "metadata": {},
   "outputs": [
    {
     "name": "stdout",
     "output_type": "stream",
     "text": [
      " * ibm_db_sa://sgn54194:***@dashdb-txn-sbox-yp-dal09-03.services.dal.bluemix.net:50000/BLUDB\n",
      "Done.\n"
     ]
    },
    {
     "data": {
      "text/html": [
       "<table>\n",
       "    <tr>\n",
       "        <th>emp_id</th>\n",
       "        <th>f_name</th>\n",
       "        <th>l_name</th>\n",
       "        <th>ssn</th>\n",
       "        <th>b_date</th>\n",
       "        <th>sex</th>\n",
       "        <th>address</th>\n",
       "        <th>job_id</th>\n",
       "        <th>salary</th>\n",
       "        <th>manager_id</th>\n",
       "        <th>dep_id</th>\n",
       "    </tr>\n",
       "    <tr>\n",
       "        <td>E1007    </td>\n",
       "        <td>Mary</td>\n",
       "        <td>Thomas</td>\n",
       "        <td>123412   </td>\n",
       "        <td>1975-05-05</td>\n",
       "        <td>F</td>\n",
       "        <td>100 Rose Pl, Gary,IL</td>\n",
       "        <td>650      </td>\n",
       "        <td>65000.00</td>\n",
       "        <td>30003    </td>\n",
       "        <td>7        </td>\n",
       "    </tr>\n",
       "    <tr>\n",
       "        <td>E1008    </td>\n",
       "        <td>Bharath</td>\n",
       "        <td>Gupta</td>\n",
       "        <td>123413   </td>\n",
       "        <td>1985-05-06</td>\n",
       "        <td>M</td>\n",
       "        <td>145 Berry Ln, Naperville,IL</td>\n",
       "        <td>660      </td>\n",
       "        <td>65000.00</td>\n",
       "        <td>30003    </td>\n",
       "        <td>7        </td>\n",
       "    </tr>\n",
       "    <tr>\n",
       "        <td>E1009    </td>\n",
       "        <td>Andrea</td>\n",
       "        <td>Jones</td>\n",
       "        <td>123414   </td>\n",
       "        <td>1990-07-09</td>\n",
       "        <td>F</td>\n",
       "        <td>120 Fall Creek, Gary,IL</td>\n",
       "        <td>234      </td>\n",
       "        <td>70000.00</td>\n",
       "        <td>30003    </td>\n",
       "        <td>7        </td>\n",
       "    </tr>\n",
       "    <tr>\n",
       "        <td>E1003    </td>\n",
       "        <td>Steve</td>\n",
       "        <td>Wells</td>\n",
       "        <td>123458   </td>\n",
       "        <td>1980-08-10</td>\n",
       "        <td>M</td>\n",
       "        <td>291 Springs, Gary,IL</td>\n",
       "        <td>300      </td>\n",
       "        <td>50000.00</td>\n",
       "        <td>30002    </td>\n",
       "        <td>5        </td>\n",
       "    </tr>\n",
       "    <tr>\n",
       "        <td>E1004    </td>\n",
       "        <td>Santosh</td>\n",
       "        <td>Kumar</td>\n",
       "        <td>123459   </td>\n",
       "        <td>1985-07-20</td>\n",
       "        <td>M</td>\n",
       "        <td>511 Aurora Av, Aurora,IL</td>\n",
       "        <td>400      </td>\n",
       "        <td>60000.00</td>\n",
       "        <td>30004    </td>\n",
       "        <td>5        </td>\n",
       "    </tr>\n",
       "    <tr>\n",
       "        <td>E1010    </td>\n",
       "        <td>Ann</td>\n",
       "        <td>Jacob</td>\n",
       "        <td>123415   </td>\n",
       "        <td>1982-03-30</td>\n",
       "        <td>F</td>\n",
       "        <td>111 Britany Springs,Elgin,IL</td>\n",
       "        <td>220      </td>\n",
       "        <td>70000.00</td>\n",
       "        <td>30004    </td>\n",
       "        <td>5        </td>\n",
       "    </tr>\n",
       "    <tr>\n",
       "        <td>E1002    </td>\n",
       "        <td>Alice</td>\n",
       "        <td>James</td>\n",
       "        <td>123457   </td>\n",
       "        <td>1972-07-31</td>\n",
       "        <td>F</td>\n",
       "        <td>980 Berry ln, Elgin,IL</td>\n",
       "        <td>200      </td>\n",
       "        <td>80000.00</td>\n",
       "        <td>30002    </td>\n",
       "        <td>5        </td>\n",
       "    </tr>\n",
       "    <tr>\n",
       "        <td>E1006    </td>\n",
       "        <td>Nancy</td>\n",
       "        <td>Allen</td>\n",
       "        <td>123411   </td>\n",
       "        <td>1978-02-06</td>\n",
       "        <td>F</td>\n",
       "        <td>111 Green Pl, Elgin,IL</td>\n",
       "        <td>600      </td>\n",
       "        <td>90000.00</td>\n",
       "        <td>30001    </td>\n",
       "        <td>2        </td>\n",
       "    </tr>\n",
       "    <tr>\n",
       "        <td>E1001    </td>\n",
       "        <td>John</td>\n",
       "        <td>Thomas</td>\n",
       "        <td>123456   </td>\n",
       "        <td>1976-01-09</td>\n",
       "        <td>M</td>\n",
       "        <td>5631 Rice, OakPark,IL</td>\n",
       "        <td>100      </td>\n",
       "        <td>100000.00</td>\n",
       "        <td>30001    </td>\n",
       "        <td>2        </td>\n",
       "    </tr>\n",
       "    <tr>\n",
       "        <td>E1005    </td>\n",
       "        <td>Ahmed</td>\n",
       "        <td>Hussain</td>\n",
       "        <td>123410   </td>\n",
       "        <td>1981-01-04</td>\n",
       "        <td>M</td>\n",
       "        <td>216 Oak Tree, Geneva,IL</td>\n",
       "        <td>500      </td>\n",
       "        <td>70000.00</td>\n",
       "        <td>30001    </td>\n",
       "        <td>2        </td>\n",
       "    </tr>\n",
       "</table>"
      ],
      "text/plain": [
       "[('E1007    ', 'Mary', 'Thomas', '123412   ', datetime.date(1975, 5, 5), 'F', '100 Rose Pl, Gary,IL', '650      ', Decimal('65000.00'), '30003    ', '7        '),\n",
       " ('E1008    ', 'Bharath', 'Gupta', '123413   ', datetime.date(1985, 5, 6), 'M', '145 Berry Ln, Naperville,IL', '660      ', Decimal('65000.00'), '30003    ', '7        '),\n",
       " ('E1009    ', 'Andrea', 'Jones', '123414   ', datetime.date(1990, 7, 9), 'F', '120 Fall Creek, Gary,IL', '234      ', Decimal('70000.00'), '30003    ', '7        '),\n",
       " ('E1003    ', 'Steve', 'Wells', '123458   ', datetime.date(1980, 8, 10), 'M', '291 Springs, Gary,IL', '300      ', Decimal('50000.00'), '30002    ', '5        '),\n",
       " ('E1004    ', 'Santosh', 'Kumar', '123459   ', datetime.date(1985, 7, 20), 'M', '511 Aurora Av, Aurora,IL', '400      ', Decimal('60000.00'), '30004    ', '5        '),\n",
       " ('E1010    ', 'Ann', 'Jacob', '123415   ', datetime.date(1982, 3, 30), 'F', '111 Britany Springs,Elgin,IL', '220      ', Decimal('70000.00'), '30004    ', '5        '),\n",
       " ('E1002    ', 'Alice', 'James', '123457   ', datetime.date(1972, 7, 31), 'F', '980 Berry ln, Elgin,IL', '200      ', Decimal('80000.00'), '30002    ', '5        '),\n",
       " ('E1006    ', 'Nancy', 'Allen', '123411   ', datetime.date(1978, 2, 6), 'F', '111 Green Pl, Elgin,IL', '600      ', Decimal('90000.00'), '30001    ', '2        '),\n",
       " ('E1001    ', 'John', 'Thomas', '123456   ', datetime.date(1976, 1, 9), 'M', '5631 Rice, OakPark,IL', '100      ', Decimal('100000.00'), '30001    ', '2        '),\n",
       " ('E1005    ', 'Ahmed', 'Hussain', '123410   ', datetime.date(1981, 1, 4), 'M', '216 Oak Tree, Geneva,IL', '500      ', Decimal('70000.00'), '30001    ', '2        ')]"
      ]
     },
     "execution_count": 13,
     "metadata": {},
     "output_type": "execute_result"
    }
   ],
   "source": [
    "# Query 4B: Retrieve a list of employees orderedin descending order by departmentIDand within each departmentordered alphabetically in descending order by last name\n",
    "query_4b = %sql SELECT * FROM EMPLOYEES ORDER BY dep_id desc, f_name desc;\n",
    "query_4b"
   ]
  },
  {
   "cell_type": "code",
   "execution_count": 24,
   "metadata": {},
   "outputs": [
    {
     "name": "stdout",
     "output_type": "stream",
     "text": [
      " * ibm_db_sa://sgn54194:***@dashdb-txn-sbox-yp-dal09-03.services.dal.bluemix.net:50000/BLUDB\n",
      "Done.\n"
     ]
    },
    {
     "data": {
      "text/html": [
       "<table>\n",
       "    <tr>\n",
       "        <th>dep_id</th>\n",
       "        <th>qnt</th>\n",
       "    </tr>\n",
       "    <tr>\n",
       "        <td>2        </td>\n",
       "        <td>3</td>\n",
       "    </tr>\n",
       "    <tr>\n",
       "        <td>5        </td>\n",
       "        <td>4</td>\n",
       "    </tr>\n",
       "    <tr>\n",
       "        <td>7        </td>\n",
       "        <td>3</td>\n",
       "    </tr>\n",
       "</table>"
      ],
      "text/plain": [
       "[('2        ', Decimal('3')),\n",
       " ('5        ', Decimal('4')),\n",
       " ('7        ', Decimal('3'))]"
      ]
     },
     "execution_count": 24,
     "metadata": {},
     "output_type": "execute_result"
    }
   ],
   "source": [
    "# Query 5A: For each department ID retrieve the numberof employees in the department\n",
    "query_5a = %sql Select dep_id, COUNT(*) as QNT from Employees GROUP BY dep_id;\n",
    "query_5a"
   ]
  },
  {
   "cell_type": "code",
   "execution_count": 28,
   "metadata": {},
   "outputs": [
    {
     "name": "stdout",
     "output_type": "stream",
     "text": [
      " * ibm_db_sa://sgn54194:***@dashdb-txn-sbox-yp-dal09-03.services.dal.bluemix.net:50000/BLUDB\n",
      "Done.\n"
     ]
    },
    {
     "data": {
      "text/html": [
       "<table>\n",
       "    <tr>\n",
       "        <th>dep_id</th>\n",
       "        <th>num_employees</th>\n",
       "        <th>avg_salary</th>\n",
       "    </tr>\n",
       "    <tr>\n",
       "        <td>2        </td>\n",
       "        <td>3</td>\n",
       "        <td>86666.66666666666666666666666</td>\n",
       "    </tr>\n",
       "    <tr>\n",
       "        <td>5        </td>\n",
       "        <td>4</td>\n",
       "        <td>65000.00000000000000000000000</td>\n",
       "    </tr>\n",
       "    <tr>\n",
       "        <td>7        </td>\n",
       "        <td>3</td>\n",
       "        <td>66666.66666666666666666666666</td>\n",
       "    </tr>\n",
       "</table>"
      ],
      "text/plain": [
       "[('2        ', Decimal('3'), Decimal('86666.66666666666666666666666')),\n",
       " ('5        ', Decimal('4'), Decimal('65000.00000000000000000000000')),\n",
       " ('7        ', Decimal('3'), Decimal('66666.66666666666666666666666'))]"
      ]
     },
     "execution_count": 28,
     "metadata": {},
     "output_type": "execute_result"
    }
   ],
   "source": [
    "# Query 5B: For each department retrieve thenumber of employees in thedepartment, and theaverage employees salaryin the department\n",
    "query_5b = %sql Select dep_id, COUNT(*) as NUM_EMPLOYEES, AVG(Salary) as AVG_SALARY from employees group by dep_id;\n",
    "query_5b"
   ]
  },
  {
   "cell_type": "code",
   "execution_count": 32,
   "metadata": {},
   "outputs": [
    {
     "name": "stdout",
     "output_type": "stream",
     "text": [
      " * ibm_db_sa://sgn54194:***@dashdb-txn-sbox-yp-dal09-03.services.dal.bluemix.net:50000/BLUDB\n",
      "Done.\n"
     ]
    },
    {
     "data": {
      "text/html": [
       "<table>\n",
       "    <tr>\n",
       "        <th>dep_id</th>\n",
       "        <th>num_employees</th>\n",
       "        <th>avg_salary</th>\n",
       "    </tr>\n",
       "    <tr>\n",
       "        <td>2        </td>\n",
       "        <td>3</td>\n",
       "        <td>86666.66666666666666666666666</td>\n",
       "    </tr>\n",
       "    <tr>\n",
       "        <td>7        </td>\n",
       "        <td>3</td>\n",
       "        <td>66666.66666666666666666666666</td>\n",
       "    </tr>\n",
       "</table>"
      ],
      "text/plain": [
       "[('2        ', Decimal('3'), Decimal('86666.66666666666666666666666')),\n",
       " ('7        ', Decimal('3'), Decimal('66666.66666666666666666666666'))]"
      ]
     },
     "execution_count": 32,
     "metadata": {},
     "output_type": "execute_result"
    }
   ],
   "source": [
    "# Query 5E: In Query 5D limitthe result to departments withfewerthan 4 employees.\n",
    "query_5e = %sql Select dep_id, COUNT(*) as NUM_EMPLOYEES, AVG(Salary) as AVG_SALARY from employees group by dep_id having count(*) < 4\n",
    "query_5e"
   ]
  },
  {
   "cell_type": "code",
   "execution_count": 36,
   "metadata": {},
   "outputs": [
    {
     "name": "stdout",
     "output_type": "stream",
     "text": [
      " * ibm_db_sa://sgn54194:***@dashdb-txn-sbox-yp-dal09-03.services.dal.bluemix.net:50000/BLUDB\n",
      "Done.\n"
     ]
    },
    {
     "data": {
      "text/html": [
       "<table>\n",
       "    <tr>\n",
       "        <th>f_name</th>\n",
       "        <th>l_name</th>\n",
       "        <th>dep_name</th>\n",
       "    </tr>\n",
       "    <tr>\n",
       "        <td>John</td>\n",
       "        <td>Thomas</td>\n",
       "        <td>Architect Group</td>\n",
       "    </tr>\n",
       "    <tr>\n",
       "        <td>Ahmed</td>\n",
       "        <td>Hussain</td>\n",
       "        <td>Architect Group</td>\n",
       "    </tr>\n",
       "    <tr>\n",
       "        <td>Nancy</td>\n",
       "        <td>Allen</td>\n",
       "        <td>Architect Group</td>\n",
       "    </tr>\n",
       "    <tr>\n",
       "        <td>Alice</td>\n",
       "        <td>James</td>\n",
       "        <td>Software Group</td>\n",
       "    </tr>\n",
       "    <tr>\n",
       "        <td>Steve</td>\n",
       "        <td>Wells</td>\n",
       "        <td>Software Group</td>\n",
       "    </tr>\n",
       "    <tr>\n",
       "        <td>Santosh</td>\n",
       "        <td>Kumar</td>\n",
       "        <td>Software Group</td>\n",
       "    </tr>\n",
       "    <tr>\n",
       "        <td>Ann</td>\n",
       "        <td>Jacob</td>\n",
       "        <td>Software Group</td>\n",
       "    </tr>\n",
       "    <tr>\n",
       "        <td>Mary</td>\n",
       "        <td>Thomas</td>\n",
       "        <td>Design Team</td>\n",
       "    </tr>\n",
       "    <tr>\n",
       "        <td>Bharath</td>\n",
       "        <td>Gupta</td>\n",
       "        <td>Design Team</td>\n",
       "    </tr>\n",
       "    <tr>\n",
       "        <td>Andrea</td>\n",
       "        <td>Jones</td>\n",
       "        <td>Design Team</td>\n",
       "    </tr>\n",
       "</table>"
      ],
      "text/plain": [
       "[('John', 'Thomas', 'Architect Group'),\n",
       " ('Ahmed', 'Hussain', 'Architect Group'),\n",
       " ('Nancy', 'Allen', 'Architect Group'),\n",
       " ('Alice', 'James', 'Software Group'),\n",
       " ('Steve', 'Wells', 'Software Group'),\n",
       " ('Santosh', 'Kumar', 'Software Group'),\n",
       " ('Ann', 'Jacob', 'Software Group'),\n",
       " ('Mary', 'Thomas', 'Design Team'),\n",
       " ('Bharath', 'Gupta', 'Design Team'),\n",
       " ('Andrea', 'Jones', 'Design Team')]"
      ]
     },
     "execution_count": 36,
     "metadata": {},
     "output_type": "execute_result"
    }
   ],
   "source": [
    "# Extra\n",
    "query_e = %sql Select E.f_name, E.l_name, D.dep_name From EMPLOYEES E , DEPARTMENTS D where E.DEP_ID = D.DEPT_ID_DEP order by dep_id;\n",
    "query_e "
   ]
  }
 ],
 "metadata": {
  "kernelspec": {
   "display_name": "Python 3",
   "language": "python",
   "name": "python3"
  },
  "language_info": {
   "codemirror_mode": {
    "name": "ipython",
    "version": 3
   },
   "file_extension": ".py",
   "mimetype": "text/x-python",
   "name": "python",
   "nbconvert_exporter": "python",
   "pygments_lexer": "ipython3",
   "version": "3.7.4"
  }
 },
 "nbformat": 4,
 "nbformat_minor": 2
}
